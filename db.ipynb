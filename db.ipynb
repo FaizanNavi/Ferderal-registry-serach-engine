{
 "cells": [
  {
   "cell_type": "code",
   "execution_count": 1,
   "metadata": {},
   "outputs": [
    {
     "name": "stderr",
     "output_type": "stream",
     "text": [
      "C:\\Users\\Safwan\\AppData\\Local\\Packages\\PythonSoftwareFoundation.Python.3.11_qbz5n2kfra8p0\\LocalCache\\local-packages\\Python311\\site-packages\\tqdm\\auto.py:21: TqdmWarning: IProgress not found. Please update jupyter and ipywidgets. See https://ipywidgets.readthedocs.io/en/stable/user_install.html\n",
      "  from .autonotebook import tqdm as notebook_tqdm\n"
     ]
    }
   ],
   "source": [
    "import chromadb\n",
    "from chromadb.config import Settings\n",
    "from sentence_transformers import SentenceTransformer\n",
    "import pandas as pd\n"
   ]
  },
  {
   "cell_type": "code",
   "execution_count": 2,
   "metadata": {},
   "outputs": [
    {
     "name": "stdout",
     "output_type": "stream",
     "text": [
      "                                      document_title document_number  \\\n",
      "0  Uniform Administrative Requirements, Cost Prin...      2020-28429   \n",
      "1  Notification of Inflation Adjustments for Civi...      2020-28942   \n",
      "2  The Public Musical Works Database and Transpar...      2020-28958   \n",
      "3  Prioritization and Allocation of Certain Scarc...      2020-29060   \n",
      "4  Fisheries of the Northeastern United States; I...      2020-28898   \n",
      "\n",
      "  publication_date                                            pdf_url  \\\n",
      "0       31-12-2020  https://www.govinfo.gov/content/pkg/FR-2020-12...   \n",
      "1       31-12-2020  https://www.govinfo.gov/content/pkg/FR-2020-12...   \n",
      "2       31-12-2020  https://www.govinfo.gov/content/pkg/FR-2020-12...   \n",
      "3       31-12-2020  https://www.govinfo.gov/content/pkg/FR-2020-12...   \n",
      "4       31-12-2020  https://www.govinfo.gov/content/pkg/FR-2020-12...   \n",
      "\n",
      "                                            abstract  \\\n",
      "0  This document announces the availability of th...   \n",
      "1  The Office of the Comptroller of the Currency ...   \n",
      "2  The U.S. Copyright Office is issuing an interi...   \n",
      "3  In April, the Federal Emergency Management Age...   \n",
      "4  This temporary rule implements emergency measu...   \n",
      "\n",
      "                                            excerpts  \\\n",
      "0  This document announces the availability of th...   \n",
      "1  The Office of the Comptroller of the Currency ...   \n",
      "2  The U.S. Copyright Office is issuing an interi...   \n",
      "3  In April, the Federal Emergency Management Age...   \n",
      "4  This temporary rule implements emergency measu...   \n",
      "\n",
      "                                               dates  page_length  start_page  \\\n",
      "0  The 2020 Addendum serves as a complement to th...            1       86793   \n",
      "1  The adjusted maximum amount of civil money pen...            3       86795   \n",
      "2                       Effective February 16, 2021.           22       86803   \n",
      "3  Effective date: This rule is effective from De...            9       86835   \n",
      "4  This action is effective December 31, 2020, th...            5       86849   \n",
      "\n",
      "   end_page                                       agency_names agency_ids  \\\n",
      "0     86793                       Management and Budget Office        280   \n",
      "1     86797   Treasury Department, Comptroller of the Currency    497, 80   \n",
      "2     86824  Library of Congress, Copyright Office, Library...    277, 87   \n",
      "3     86843  Homeland Security Department, Federal Emergenc...   227, 166   \n",
      "4     86853  Commerce Department, National Oceanic and Atmo...    54, 361   \n",
      "\n",
      "                                         agency_urls  \\\n",
      "0  https://www.federalregister.gov/agencies/manag...   \n",
      "1  https://www.federalregister.gov/agencies/treas...   \n",
      "2  https://www.federalregister.gov/agencies/libra...   \n",
      "3  https://www.federalregister.gov/agencies/homel...   \n",
      "4  https://www.federalregister.gov/agencies/comme...   \n",
      "\n",
      "                                        agency_slugs  \n",
      "0                       management-and-budget-office  \n",
      "1   treasury-department, comptroller-of-the-currency  \n",
      "2  library-of-congress, copyright-office-library-...  \n",
      "3  homeland-security-department, federal-emergenc...  \n",
      "4  commerce-department, national-oceanic-and-atmo...  \n"
     ]
    }
   ],
   "source": [
    "import pandas as pd\n",
    "\n",
    "# Load the CSV data\n",
    "df = pd.read_csv(\"combined_data.csv\")\n",
    "\n",
    "# Inspect the first few rows\n",
    "print(df.head())\n"
   ]
  },
  {
   "cell_type": "code",
   "execution_count": 3,
   "metadata": {},
   "outputs": [
    {
     "data": {
      "text/plain": [
       "Index(['document_title', 'document_number', 'publication_date', 'pdf_url',\n",
       "       'abstract', 'excerpts', 'dates', 'page_length', 'start_page',\n",
       "       'end_page', 'agency_names', 'agency_ids', 'agency_urls',\n",
       "       'agency_slugs'],\n",
       "      dtype='object')"
      ]
     },
     "execution_count": 3,
     "metadata": {},
     "output_type": "execute_result"
    }
   ],
   "source": [
    "df.columns"
   ]
  },
  {
   "cell_type": "code",
   "execution_count": 4,
   "metadata": {},
   "outputs": [],
   "source": [
    "from sentence_transformers import SentenceTransformer\n",
    "\n",
    "# Load a pre-trained transformer model\n",
    "model = SentenceTransformer('all-MiniLM-L6-v2')\n"
   ]
  },
  {
   "cell_type": "markdown",
   "metadata": {},
   "source": []
  },
  {
   "cell_type": "code",
   "execution_count": 5,
   "metadata": {},
   "outputs": [
    {
     "name": "stdout",
     "output_type": "stream",
     "text": [
      "Generated Embeddings Shape: torch.Size([3640, 384])\n"
     ]
    }
   ],
   "source": [
    "# Extract the 'abstract' column\n",
    "abstracts = df['abstract'].tolist()\n",
    "\n",
    "# Generate embeddings\n",
    "embeddings = model.encode(abstracts, convert_to_tensor=True)\n",
    "\n",
    "print(\"Generated Embeddings Shape:\", embeddings.shape)\n"
   ]
  },
  {
   "cell_type": "code",
   "execution_count": 8,
   "metadata": {},
   "outputs": [],
   "source": [
    "import chromadb\n",
    "\n",
    "# Initialize ChromaDB client with local persistent storage\n",
    "chroma_client = chromadb.PersistentClient(path=\"local_chromadb_storage\")\n",
    "# Initialize ChromaDB client\n",
    "chroma_client = chromadb.Client()\n",
    "\n",
    "# Create a collection to store embeddings and metadata\n",
    "collection = chroma_client.create_collection(name=\"abstract_embeddings\")\n"
   ]
  },
  {
   "cell_type": "code",
   "execution_count": 9,
   "metadata": {},
   "outputs": [],
   "source": [
    "# Prepare metadata as a list of dictionaries\n",
    "metadata = df.drop(columns=['abstract']).to_dict(orient='records')\n",
    "\n",
    "# Add embeddings and metadata to the collection\n",
    "collection.add(\n",
    "    embeddings=embeddings.tolist(),\n",
    "    documents=abstracts,\n",
    "    metadatas=metadata,\n",
    "    ids=[str(i) for i in range(len(abstracts))]\n",
    ")\n"
   ]
  },
  {
   "cell_type": "code",
   "execution_count": 12,
   "metadata": {},
   "outputs": [
    {
     "name": "stdout",
     "output_type": "stream",
     "text": [
      "\n",
      "Result 1: The State Department will hold a public meeting at 2 p.m.-3:30 p.m. (ET) on WebEx with the Bureau of Cyberspace and Digital Policy's International Information and Communications Policy (CDP/ICP) division. The purpose of the meeting is to brief stakeholders on CDP/ICP's past and upcoming international engagements. These include engagement at the International Telecommunication Union (ITU), the Organization of American States Inter-American Telecommunication Commission (CITEL), the Organization for Economic Cooperation and Development (OECD), the Asia Pacific Economic Cooperation (APEC) Forum Telecommunications and Information Working Group, the Group of Seven (G7) Digital & Tech Working Group, the Group of Twenty (G20) Digital Economy Task Force, and other multilateral processes and bilateral digital and ICT dialogues.\n",
      "Metadata:\n",
      "  agency_ids: 476\n",
      "  agency_names: State Department\n",
      "  agency_slugs: state-department\n",
      "  agency_urls: https://www.federalregister.gov/agencies/state-department\n",
      "  dates: The meeting will be on January 18, 2024.\n",
      "  document_number: 2023-28447\n",
      "  document_title: Notice of Public Meeting: International Information and Communications Policy Division Stakeholder Briefing\n",
      "  end_page: 89488\n",
      "  excerpts: The State Department will hold a public meeting at 2 p.m.-3:30 p.m. (ET) on WebEx with the Bureau of Cyberspace and Digital Policy's International Information and Communications Policy (CDP/ICP) division. The purpose of the meeting is to brief...\n",
      "  page_length: 1\n",
      "  pdf_url: https://www.govinfo.gov/content/pkg/FR-2023-12-27/pdf/2023-28447.pdf\n",
      "  publication_date: 27-12-2023\n",
      "  start_page: 89488\n",
      "\n",
      "Result 2: The Pacific Fishery Management Council's (Pacific Council) will host an online meeting of the Area 2A Pacific halibut governmental management entities, that is open to the public.\n",
      "Metadata:\n",
      "  agency_ids: 54, 361\n",
      "  agency_names: Commerce Department, National Oceanic and Atmospheric Administration\n",
      "  agency_slugs: commerce-department, national-oceanic-and-atmospheric-administration\n",
      "  agency_urls: https://www.federalregister.gov/agencies/commerce-department, https://www.federalregister.gov/agencies/national-oceanic-and-atmospheric-administration\n",
      "  dates: The meeting will be held Monday, January 4, 2021, from 10:30 a.m. until 2 p.m., Pacific Standard Time, or until business for the day has been completed.\n",
      "  document_number: 2020-27972\n",
      "  document_title: Pacific Fishery Management Council; Public Meeting.\n",
      "  end_page: 82445\n",
      "  excerpts: The Pacific Fishery Management Council's (Pacific Council) will host an online meeting of the Area 2A Pacific halibut governmental management entities, that is open to the public.\n",
      "  page_length: 1\n",
      "  pdf_url: https://www.govinfo.gov/content/pkg/FR-2020-12-18/pdf/2020-27972.pdf\n",
      "  publication_date: 18-12-2020\n",
      "  start_page: 82445\n",
      "\n",
      "Result 3: The Pacific Fishery Management Council's (Pacific Council) Ad Hoc Groundfish Electronic Monitoring Policy Advisory Committee and Technical Advisory Committee (Committees) will hold three online meetings, which are open to the public.\n",
      "Metadata:\n",
      "  agency_ids: 54, 361\n",
      "  agency_names: Commerce Department, National Oceanic and Atmospheric Administration\n",
      "  agency_slugs: commerce-department, national-oceanic-and-atmospheric-administration\n",
      "  agency_urls: https://www.federalregister.gov/agencies/commerce-department, https://www.federalregister.gov/agencies/national-oceanic-and-atmospheric-administration\n",
      "  dates: The meetings will be held Wednesday, January 20, 2021, from 9 a.m. to 4 p.m.; Thursday, January 21, 2021, from 9 a.m. to 12 p.m.; and Thursday, February 25, 2021, from 9 a.m. to 4 p.m., Pacific Standard Time, or until business for each day is completed.\n",
      "  document_number: 2020-28296\n",
      "  document_title: Pacific Fishery Management Council; Public Meeting\n",
      "  end_page: 83901\n",
      "  excerpts: The Pacific Fishery Management Council's (Pacific Council) Ad Hoc Groundfish Electronic Monitoring Policy Advisory Committee and Technical Advisory Committee (Committees) will hold three online meetings, which are open to the public.\n",
      "  page_length: 1\n",
      "  pdf_url: https://www.govinfo.gov/content/pkg/FR-2020-12-23/pdf/2020-28296.pdf\n",
      "  publication_date: 23-12-2020\n",
      "  start_page: 83901\n",
      "\n",
      "Result 4: The South Atlantic Fishery Management Council's (Council) Scientific and Statistical Committee (SSC) will hold a meeting via webinar. See SUPPLEMENTARY INFORMATION.\n",
      "Metadata:\n",
      "  agency_ids: 54, 361\n",
      "  agency_names: Commerce Department, National Oceanic and Atmospheric Administration\n",
      "  agency_slugs: commerce-department, national-oceanic-and-atmospheric-administration\n",
      "  agency_urls: https://www.federalregister.gov/agencies/commerce-department, https://www.federalregister.gov/agencies/national-oceanic-and-atmospheric-administration\n",
      "  dates: The SSC meeting will take place from 9 a.m. to 5 p.m., Monday, January 11, 2021; and from 9 a.m. to 12 noon, Tuesday, January 12, 2021.\n",
      "  document_number: 2020-28071\n",
      "  document_title: Fisheries of the South Atlantic; South Atlantic Fishery Management Council; Public Meeting\n",
      "  end_page: 83062\n",
      "  excerpts: The South Atlantic Fishery Management Council's (Council) Scientific and Statistical Committee (SSC) will hold a meeting via webinar. See SUPPLEMENTARY INFORMATION.\n",
      "  page_length: 1\n",
      "  pdf_url: https://www.govinfo.gov/content/pkg/FR-2020-12-21/pdf/2020-28071.pdf\n",
      "  publication_date: 21-12-2020\n",
      "  start_page: 83062\n",
      "\n",
      "Result 5: The South Atlantic Fishery Management Council (Council; SAFMC) will hold meetings of the following: Citizen Science Committee; Dolphin Wahoo Committee; Southeast Data, Assessment, and Review (SEDAR) Committee; and Snapper Grouper Committee. The meeting week will also include a formal public comment session and meetings of the Full Council.\n",
      "Metadata:\n",
      "  agency_ids: 54, 361\n",
      "  agency_names: Commerce Department, National Oceanic and Atmospheric Administration\n",
      "  agency_slugs: commerce-department, national-oceanic-and-atmospheric-administration\n",
      "  agency_urls: https://www.federalregister.gov/agencies/commerce-department, https://www.federalregister.gov/agencies/national-oceanic-and-atmospheric-administration\n",
      "  dates: The Council meeting will be held from 8:30 a.m. on Monday, December 2, 2024, until 12 p.m. on Friday, December 6, 2024.\n",
      "  document_number: 2024-26500\n",
      "  document_title: South Atlantic Fishery Management Council; Public Meeting\n",
      "  end_page: 89969\n",
      "  excerpts: The South Atlantic Fishery Management Council (Council; SAFMC) will hold meetings of the following: Citizen Science Committee; Dolphin Wahoo Committee; Southeast Data, Assessment, and Review (SEDAR) Committee; and Snapper Grouper Committee. The meeting...\n",
      "  page_length: 2\n",
      "  pdf_url: https://www.govinfo.gov/content/pkg/FR-2024-11-14/pdf/2024-26500.pdf\n",
      "  publication_date: 14-11-2024\n",
      "  start_page: 89968\n"
     ]
    }
   ],
   "source": [
    "\n",
    "query = \"Fruad\"\n",
    "query_embedding = model.encode(query).tolist()\n",
    "\n",
    "# Search for the top 3 most similar abstracts\n",
    "results = collection.query(\n",
    "    query_embeddings=[query_embedding],\n",
    "    n_results = 5\n",
    ")\n",
    "\n",
    "# Display results with original metadata\n",
    "for i, doc in enumerate(results['documents'][0]):\n",
    "    print(f\"\\nResult {i+1}: {doc}\")\n",
    "    print(\"Metadata:\")\n",
    "    for key, value in results['metadatas'][0][i].items():\n",
    "        print(f\"  {key}: {value}\")\n"
   ]
  },
  {
   "cell_type": "code",
   "execution_count": null,
   "metadata": {},
   "outputs": [],
   "source": []
  },
  {
   "cell_type": "code",
   "execution_count": null,
   "metadata": {},
   "outputs": [],
   "source": []
  }
 ],
 "metadata": {
  "kernelspec": {
   "display_name": "Python 3",
   "language": "python",
   "name": "python3"
  },
  "language_info": {
   "codemirror_mode": {
    "name": "ipython",
    "version": 3
   },
   "file_extension": ".py",
   "mimetype": "text/x-python",
   "name": "python",
   "nbconvert_exporter": "python",
   "pygments_lexer": "ipython3",
   "version": "3.11.9"
  }
 },
 "nbformat": 4,
 "nbformat_minor": 2
}
