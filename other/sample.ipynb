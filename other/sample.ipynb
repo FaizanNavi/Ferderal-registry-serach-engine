{
 "cells": [
  {
   "cell_type": "code",
   "execution_count": 4,
   "metadata": {},
   "outputs": [],
   "source": [
    "import csv\n",
    "\n",
    "# Load sample data\n",
    "\n",
    "with open('combined_data.csv', encoding='utf-8') as file:\n",
    "    lines = csv.DictReader(file)  # Use DictReader to work with column names\n",
    "\n",
    "    # Initialize arrays\n",
    "    documents = []\n",
    "    metadatas = []\n",
    "    ids = []\n",
    "\n",
    "    # Loop through each line and populate the arrays\n",
    "    for row in lines:\n",
    "        # Add the \"abstract\" column to the documents list\n",
    "        documents.append(row[\"abstract\"])\n",
    "\n",
    "        # Use \"document_number\" as the ID\n",
    "        ids.append(row[\"document_number\"])\n",
    "\n",
    "        # Use all other columns as metadata (excluding \"abstract\" and \"document_number\")\n",
    "        metadata = {key: value for key, value in row.items() if key not in [\"abstract\", \"document_number\"]}\n",
    "        metadatas.append(metadata)\n",
    "\n",
    "\n"
   ]
  },
  {
   "cell_type": "code",
   "execution_count": 1,
   "metadata": {},
   "outputs": [],
   "source": [
    "import chromadb\n",
    "from chromadb.utils import embedding_functions\n",
    "chroma_client = chromadb.PersistentClient(path=\"my_vectordb\")\n",
    "\n"
   ]
  },
  {
   "cell_type": "code",
   "execution_count": 2,
   "metadata": {},
   "outputs": [
    {
     "name": "stderr",
     "output_type": "stream",
     "text": [
      "C:\\Users\\Safwan\\AppData\\Local\\Packages\\PythonSoftwareFoundation.Python.3.11_qbz5n2kfra8p0\\LocalCache\\local-packages\\Python311\\site-packages\\tqdm\\auto.py:21: TqdmWarning: IProgress not found. Please update jupyter and ipywidgets. See https://ipywidgets.readthedocs.io/en/stable/user_install.html\n",
      "  from .autonotebook import tqdm as notebook_tqdm\n"
     ]
    }
   ],
   "source": [
    "sentence_transformer_ef = embedding_functions.SentenceTransformerEmbeddingFunction(model_name=\"all-mpnet-base-v2\")\n",
    "\n",
    "collection = chroma_client.get_or_create_collection(name = \"federal\", embedding_function=sentence_transformer_ef)"
   ]
  },
  {
   "cell_type": "code",
   "execution_count": 5,
   "metadata": {},
   "outputs": [],
   "source": [
    "collection.add(\n",
    "    documents = documents,\n",
    "    ids = ids,\n",
    "    metadatas = metadatas,\n",
    ")"
   ]
  },
  {
   "cell_type": "code",
   "execution_count": 4,
   "metadata": {},
   "outputs": [
    {
     "data": {
      "text/plain": [
       "{'ids': [['2023-28073', '2024-26635', '2020-28345']],\n",
       " 'embeddings': None,\n",
       " 'documents': [['The National Security Agency hereby gives notice of its intent to grant Kapalya, Inc. a revocable, non-assignable, exclusive, license to practice the following Government-Owned invention as described and claimed United States Patent Serial Number (USPSN), 17/934,216, Security System for Hardening a Digital System Against Malware and Method of Operation.',\n",
       "   'The National Telecommunications and Information Administration (NTIA) is seeking applications from persons interested in serving on the Public Wireless Supply Chain Innovation Fund Advisory Committee (hereinafter \"the IFAC\" or \"the Committee\") for a two-year term. The IFAC will advise the Secretary and the NTIA Administrator on the administration of the Public Wireless Supply Chain Innovation Fund.',\n",
       "   'The Department of Education (Department) is issuing a notice inviting applications for new awards for fiscal year (FY) 2021 for Educational Technology, Media, and Materials for Individuals with Disabilities--Stepping-up Technology Implementation, Assistance Listing Number 84.327S. This notice relates to the approved information collection under OMB control number 1820-0028.']],\n",
       " 'uris': None,\n",
       " 'data': None,\n",
       " 'metadatas': [[{'agency_ids': '103, ',\n",
       "    'agency_names': 'Defense Department, ',\n",
       "    'agency_slugs': 'defense-department, ',\n",
       "    'agency_urls': 'https://www.federalregister.gov/agencies/defense-department, ',\n",
       "    'dates': 'Anyone wishing to object to the grant of this license has until January 5, 2024 to file written objections including evidence and argument that establish that the grant of the license would not be consistent with the requirements of 35 U.S.C. 209 and 37 CFR 404.7.',\n",
       "    'document_title': 'Notice of Intent To Grant an Exclusive License; Kapalya, Inc.',\n",
       "    'end_page': '88378',\n",
       "    'excerpts': 'The National Security Agency hereby gives notice of its intent to grant Kapalya, Inc. a revocable, non-assignable, exclusive, license to practice the following Government-Owned invention as described and claimed United States Patent Serial Number...',\n",
       "    'page_length': '1',\n",
       "    'pdf_url': 'https://www.govinfo.gov/content/pkg/FR-2023-12-21/pdf/2023-28073.pdf',\n",
       "    'publication_date': '21-12-2023',\n",
       "    'start_page': '88378'},\n",
       "   {'agency_ids': '54, 373',\n",
       "    'agency_names': 'Commerce Department, National Telecommunications and Information Administration',\n",
       "    'agency_slugs': 'commerce-department, national-telecommunications-and-information-administration',\n",
       "    'agency_urls': 'https://www.federalregister.gov/agencies/commerce-department, https://www.federalregister.gov/agencies/national-telecommunications-and-information-administration',\n",
       "    'dates': 'To be considered for calendar year 2025 appointments, applications must be postmarked or electronically transmitted on or before December 16, 2024.',\n",
       "    'document_title': 'Innovation Fund Advisory Committee',\n",
       "    'end_page': '90269',\n",
       "    'excerpts': 'The National Telecommunications and Information Administration (NTIA) is seeking applications from persons interested in serving on the Public Wireless Supply Chain Innovation Fund Advisory Committee (hereinafter \"the IFAC\" or \"the Committee\") for a...',\n",
       "    'page_length': '3',\n",
       "    'pdf_url': 'https://www.govinfo.gov/content/pkg/FR-2024-11-15/pdf/2024-26635.pdf',\n",
       "    'publication_date': '15-11-2024',\n",
       "    'start_page': '90267'},\n",
       "   {'agency_ids': '126',\n",
       "    'agency_names': 'Education Department',\n",
       "    'agency_slugs': 'education-department',\n",
       "    'agency_urls': 'https://www.federalregister.gov/agencies/education-department',\n",
       "    'dates': 'Applications Available: December 22, 2020.',\n",
       "    'document_title': 'Applications for New Awards; Educational Technology, Media, and Materials for Individuals With Disabilities Program-Stepping-Up Technology Implementation',\n",
       "    'end_page': '83538',\n",
       "    'excerpts': 'The Department of Education (Department) is issuing a notice inviting applications for new awards for fiscal year (FY) 2021 for Educational Technology, Media, and Materials for Individuals with Disabilities--Stepping-up Technology Implementation,...',\n",
       "    'page_length': '8',\n",
       "    'pdf_url': 'https://www.govinfo.gov/content/pkg/FR-2020-12-22/pdf/2020-28345.pdf',\n",
       "    'publication_date': '22-12-2020',\n",
       "    'start_page': '83531'}]],\n",
       " 'distances': [[1.319441556930542, 1.329785704612732, 1.3480044603347778]],\n",
       " 'included': [<IncludeEnum.distances: 'distances'>,\n",
       "  <IncludeEnum.documents: 'documents'>,\n",
       "  <IncludeEnum.metadatas: 'metadatas'>]}"
      ]
     },
     "execution_count": 4,
     "metadata": {},
     "output_type": "execute_result"
    }
   ],
   "source": [
    "results = collection.query(\n",
    "    query_texts=  [\"tech\"],\n",
    "    n_results=3\n",
    ")\n",
    "\n",
    "results"
   ]
  },
  {
   "cell_type": "code",
   "execution_count": null,
   "metadata": {},
   "outputs": [],
   "source": []
  },
  {
   "cell_type": "code",
   "execution_count": null,
   "metadata": {},
   "outputs": [],
   "source": []
  }
 ],
 "metadata": {
  "kernelspec": {
   "display_name": "Python 3",
   "language": "python",
   "name": "python3"
  },
  "language_info": {
   "codemirror_mode": {
    "name": "ipython",
    "version": 3
   },
   "file_extension": ".py",
   "mimetype": "text/x-python",
   "name": "python",
   "nbconvert_exporter": "python",
   "pygments_lexer": "ipython3",
   "version": "3.11.9"
  }
 },
 "nbformat": 4,
 "nbformat_minor": 2
}
